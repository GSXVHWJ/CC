{
 "cells": [
  {
   "cell_type": "code",
   "execution_count": 10,
   "metadata": {},
   "outputs": [
    {
     "name": "stdout",
     "output_type": "stream",
     "text": [
      "{'name': 'Kelly', 'age': 25, 'salary': 8000, 'location': 'New york'}\n"
     ]
    }
   ],
   "source": [
    "# 5.\n",
    "\n",
    "sample_dict = {\n",
    "    \"name\": \"Kelly\",\n",
    "    \"age\": 25,\n",
    "    \"salary\": 8000,\n",
    "    \"city\": \"New york\"\n",
    "}\n",
    "\n",
    "sample_dict[\"location\"] = sample_dict.pop(\"city\")\n",
    "print(sample_dict)\n"
   ]
  },
  {
   "cell_type": "code",
   "execution_count": 9,
   "metadata": {},
   "outputs": [
    {
     "name": "stdout",
     "output_type": "stream",
     "text": [
      "{90, 78}\n",
      "{34, 45, 78, 23, 56, 90}\n",
      "{34, 45, 23, 56}\n",
      "A is not a subset of B\n",
      "A is not a superset of B\n"
     ]
    }
   ],
   "source": [
    "# 4.\n",
    "\n",
    "A = {34, 56, 78, 90}\n",
    "B = {78, 45, 90, 23}\n",
    "\n",
    "# Intersection of A and B\n",
    "print(set(A) & set(B))  # {78, 90}\n",
    "\n",
    "# Union of A and B\n",
    "print(set(A) | set(B))  # {34, 56, 78, 90, 45, 23}\n",
    "\n",
    "# Symmetric difference of A and B\n",
    "print(set(A) ^ set(B))  # {34, 56, 45, 23}\n",
    "\n",
    "# Subset and superset checks\n",
    "Aa = set(A)\n",
    "Bb = set(B)\n",
    "\n",
    "if Aa.issubset(Bb):\n",
    "    print(\"A is a subset of B\")\n",
    "else:\n",
    "    print(\"A is not a subset of B\")\n",
    "\n",
    "if Aa.issuperset(Bb):\n",
    "    print(\"A is a superset of B\")\n",
    "else:\n",
    "    print(\"A is not a superset of B\")\n",
    "\n",
    "# Safely remove an element\n",
    "A.discard(3)  # No error if 3 is not in the set\n"
   ]
  },
  {
   "cell_type": "code",
   "execution_count": 6,
   "metadata": {},
   "outputs": [
    {
     "name": "stdout",
     "output_type": "stream",
     "text": [
      "1 is odd\n",
      "6 is even\n",
      "5 is odd\n",
      "5 is a prime number\n",
      "7 is odd\n",
      "7 is a prime number\n",
      "9 is odd\n",
      "55 is odd\n",
      "60 is even\n",
      "7 is odd\n",
      "7 is a prime number\n",
      "45 is odd\n",
      "46 is even\n",
      "78 is even\n",
      "98 is even\n",
      "100 is even\n"
     ]
    }
   ],
   "source": [
    "# 3.\n",
    "\n",
    "tu = (1, 6, 5, 7, 9, 55, 60, 7, 45, 46, 78, 98, 100)\n",
    "\n",
    "def is_prime(num):\n",
    "    if num < 2:\n",
    "        return False\n",
    "    for i in range(2, int(num**0.5) + 1):\n",
    "        if num % i == 0:\n",
    "            return False\n",
    "    return True\n",
    "\n",
    "for i in range(0, len(tu)):\n",
    "    if tu[i] % 2 == 0:\n",
    "        print(f\"{tu[i]} is even\")\n",
    "    else:\n",
    "        print(f\"{tu[i]} is odd\")\n",
    "    \n",
    "    if is_prime(tu[i]):\n",
    "        print(f\"{tu[i]} is a prime number\")"
   ]
  },
  {
   "cell_type": "code",
   "execution_count": 5,
   "metadata": {},
   "outputs": [
    {
     "name": "stdout",
     "output_type": "stream",
     "text": [
      "92\n",
      "5\n",
      "(45, 89.5, 76, 45.4, 89, 92, 58, 45)\n",
      "45\n",
      "2\n",
      "(45, 58, 92, 89, 45.4, 76, 89.5, 45)\n",
      "2 0\n"
     ]
    }
   ],
   "source": [
    "# 2.\n",
    "\n",
    "tu = (45,89.5,76,45.4,89,92,58,45)\n",
    "# tu.index(max(tu))\n",
    "maximum = max(tu)\n",
    "print(maximum)\n",
    "print(tu.index(max(tu)))\n",
    "print(tu)\n",
    "print(min(tu))\n",
    "print(tu.count(min(tu)))\n",
    "reverse = tuple(reversed(tu))\n",
    "print(reverse)\n",
    "num = int(input(\"Enter the number : \"))\n",
    "print(tu.count(num),tu.index(num))"
   ]
  },
  {
   "cell_type": "code",
   "execution_count": 1,
   "metadata": {},
   "outputs": [
    {
     "name": "stdout",
     "output_type": "stream",
     "text": [
      "[20, 40, 50, 60, 70, 80, 200, 300]\n",
      "[20, 40, 50, 60, 70, 80, 200, 300]\n",
      "[300, 200, 80, 70, 60, 50, 40, 20]\n"
     ]
    }
   ],
   "source": [
    "# 1.\n",
    "\n",
    "li = [10,20,30,40,50,60,70,80]\n",
    "li.append(200)\n",
    "li.append(300)\n",
    "# print(li)\n",
    "# print(len(li))\n",
    "li.pop(0)\n",
    "li.pop(1)\n",
    "# li.pop(1)\n",
    "# li.remove(30)\n",
    "# li.remove(10)\n",
    "print(li)\n",
    "# ascending order\n",
    "li.sort()\n",
    "print(li)\n",
    "# decresing order\n",
    "li.reverse()\n",
    "print(li)"
   ]
  }
 ],
 "metadata": {
  "kernelspec": {
   "display_name": "Python 3",
   "language": "python",
   "name": "python3"
  },
  "language_info": {
   "codemirror_mode": {
    "name": "ipython",
    "version": 3
   },
   "file_extension": ".py",
   "mimetype": "text/x-python",
   "name": "python",
   "nbconvert_exporter": "python",
   "pygments_lexer": "ipython3",
   "version": "3.13.1"
  }
 },
 "nbformat": 4,
 "nbformat_minor": 2
}
